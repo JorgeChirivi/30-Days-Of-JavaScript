{
  "nbformat": 4,
  "nbformat_minor": 0,
  "metadata": {
    "colab": {
      "provenance": [],
      "authorship_tag": "ABX9TyNYLW+plCMKYQZjV2XDwo8m",
      "include_colab_link": true
    },
    "kernelspec": {
      "name": "python3",
      "display_name": "Python 3"
    },
    "language_info": {
      "name": "python"
    }
  },
  "cells": [
    {
      "cell_type": "markdown",
      "metadata": {
        "id": "view-in-github",
        "colab_type": "text"
      },
      "source": [
        "<a href=\"https://colab.research.google.com/github/JorgeChirivi/30-Days-Of-JavaScript/blob/master/python_freeCode.ipynb\" target=\"_parent\"><img src=\"https://colab.research.google.com/assets/colab-badge.svg\" alt=\"Open In Colab\"/></a>"
      ]
    },
    {
      "cell_type": "code",
      "execution_count": 1,
      "metadata": {
        "colab": {
          "base_uri": "https://localhost:8080/"
        },
        "id": "YjbChmoaLIPB",
        "outputId": "876dddb7-6660-418c-a8d6-20f1bd0c972b"
      },
      "outputs": [
        {
          "output_type": "stream",
          "name": "stdout",
          "text": [
            "Hola mundo\n"
          ]
        }
      ],
      "source": [
        "print (\"Hola mundo\")"
      ]
    },
    {
      "cell_type": "markdown",
      "source": [
        "Variable: Nombre que se le asigna a un valor en el programa"
      ],
      "metadata": {
        "id": "73fli6wQL7m4"
      }
    },
    {
      "cell_type": "code",
      "source": [
        "num = 5\n",
        "num\n",
        "num = 8\n",
        "num\n"
      ],
      "metadata": {
        "colab": {
          "base_uri": "https://localhost:8080/"
        },
        "id": "p6rdXiKWMP5o",
        "outputId": "1f7b5f25-af84-416a-edfd-678cb8c1e2c4"
      },
      "execution_count": 4,
      "outputs": [
        {
          "output_type": "execute_result",
          "data": {
            "text/plain": [
              "8"
            ]
          },
          "metadata": {},
          "execution_count": 4
        }
      ]
    },
    {
      "cell_type": "markdown",
      "source": [
        "Reglas Para Nombrar Variables\n",
        "-Los nombres de variables deben empear con una letra o con un guion bajo\n",
        "mi_variable\n",
        "-Los nombres de variables no pueden comenzar con un numero\n",
        "9mi_variable"
      ],
      "metadata": {
        "id": "ILw5n1YZNpr6"
      }
    },
    {
      "cell_type": "code",
      "source": [
        "9mi_variable = 5"
      ],
      "metadata": {
        "colab": {
          "base_uri": "https://localhost:8080/",
          "height": 130
        },
        "id": "UWOfIaGPOevM",
        "outputId": "bad04271-1352-4575-da61-32f0e3f60c25"
      },
      "execution_count": 5,
      "outputs": [
        {
          "output_type": "error",
          "ename": "SyntaxError",
          "evalue": "ignored",
          "traceback": [
            "\u001b[0;36m  File \u001b[0;32m\"<ipython-input-5-350bd49db1dd>\"\u001b[0;36m, line \u001b[0;32m1\u001b[0m\n\u001b[0;31m    9mi_variable = 5\u001b[0m\n\u001b[0m     ^\u001b[0m\n\u001b[0;31mSyntaxError\u001b[0m\u001b[0;31m:\u001b[0m invalid syntax\n"
          ]
        }
      ]
    },
    {
      "cell_type": "markdown",
      "source": [
        "-Solo pueden contener caracteres alfanumericos(A-Z,a-z, 0-9,_)"
      ],
      "metadata": {
        "id": "G6OcvfI-O0je"
      }
    },
    {
      "cell_type": "code",
      "source": [
        "num_vistas = 12442"
      ],
      "metadata": {
        "id": "lMXVm0ToPE1H"
      },
      "execution_count": 6,
      "outputs": []
    },
    {
      "cell_type": "markdown",
      "source": [
        "-Solo pueden contener caracteres alfanumericos(A-Z, a-z, 0-9,_)"
      ],
      "metadata": {
        "id": "90rQMB9ePZ8u"
      }
    },
    {
      "cell_type": "code",
      "source": [
        "@variable = 34"
      ],
      "metadata": {
        "colab": {
          "base_uri": "https://localhost:8080/",
          "height": 130
        },
        "id": "KIXkSnB4PvPJ",
        "outputId": "c9a8ea37-e9d3-4b33-94b3-9670543446ba"
      },
      "execution_count": 7,
      "outputs": [
        {
          "output_type": "error",
          "ename": "SyntaxError",
          "evalue": "ignored",
          "traceback": [
            "\u001b[0;36m  File \u001b[0;32m\"<ipython-input-7-f949b2b144c2>\"\u001b[0;36m, line \u001b[0;32m1\u001b[0m\n\u001b[0;31m    @variable = 34\u001b[0m\n\u001b[0m              ^\u001b[0m\n\u001b[0;31mSyntaxError\u001b[0m\u001b[0;31m:\u001b[0m invalid syntax\n"
          ]
        }
      ]
    },
    {
      "cell_type": "markdown",
      "source": [
        "-Se distingue entre mayusculas y minusculas\n",
        "edad vs. Edad vs. EDAD VS."
      ],
      "metadata": {
        "id": "8Z5-OHneQQQf"
      }
    },
    {
      "cell_type": "code",
      "source": [
        "edad = 24\n",
        "Edad = 45\n",
        "EDAD = 15\n",
        "edad\n",
        "Edad\n",
        "EDAD"
      ],
      "metadata": {
        "colab": {
          "base_uri": "https://localhost:8080/"
        },
        "id": "G7xUtAB1Qw_T",
        "outputId": "49d138d6-9127-4a88-c61c-833dae061826"
      },
      "execution_count": 10,
      "outputs": [
        {
          "output_type": "execute_result",
          "data": {
            "text/plain": [
              "15"
            ]
          },
          "metadata": {},
          "execution_count": 10
        }
      ]
    },
    {
      "cell_type": "markdown",
      "source": [
        "Tipos de datos \n",
        "Entero\n",
        "Numeros que no tienen decimales.\n",
        "-Positivos\n",
        "-Negativos\n",
        "-Cero"
      ],
      "metadata": {
        "id": "kYqbdmuURMAd"
      }
    },
    {
      "cell_type": "code",
      "source": [
        " type (5)\n",
        " type (-15)\n",
        " type (0)"
      ],
      "metadata": {
        "colab": {
          "base_uri": "https://localhost:8080/"
        },
        "id": "UU5RJ1FGRES5",
        "outputId": "6591501f-ece2-4000-92cc-cceb9c1e7bc4"
      },
      "execution_count": 11,
      "outputs": [
        {
          "output_type": "execute_result",
          "data": {
            "text/plain": [
              "int"
            ]
          },
          "metadata": {},
          "execution_count": 11
        }
      ]
    },
    {
      "cell_type": "markdown",
      "source": [
        "Numeros en coma flotante\n",
        "Numeros que tiene decimales.\n",
        "-positivos\n",
        "-negativos\n",
        "\n"
      ],
      "metadata": {
        "id": "3s6QqyD9S3hh"
      }
    },
    {
      "cell_type": "code",
      "source": [
        "type (0.5)\n",
        "type (13.4)\n",
        "type (4.0)"
      ],
      "metadata": {
        "colab": {
          "base_uri": "https://localhost:8080/"
        },
        "id": "dbr8qRdqTaOy",
        "outputId": "2311ce42-2ac2-4e12-ee67-3028024af5c5"
      },
      "execution_count": 12,
      "outputs": [
        {
          "output_type": "execute_result",
          "data": {
            "text/plain": [
              "float"
            ]
          },
          "metadata": {},
          "execution_count": 12
        }
      ]
    }
  ]
}